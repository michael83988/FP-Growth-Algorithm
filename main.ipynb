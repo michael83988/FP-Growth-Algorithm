FP-Growth algorithm
此為Association Rule Analysis中的一個演算法，透過建立 FP Tree，並遍歷FP Tree來形成frequent itemset，避免apriori algorithm中需要不斷查詢整個raw data的步驟(很耗時)。FP-Growth algorithm只需要對raw data進行2次的掃描，大大的降低執行所需的時間，提升執行效率。

FP-Growth algorithm可拆解為:

掃描整個raw data，對所有元素的出現次數做統計，並根據出現次數由大到小排序建立出一個參考的list(frequent list)
將raw data中的每一筆資料按照frequent list做過濾與排序(由出現次數最多到最少)
建立FP Tree(以root node為開頭)
參考frequent list，以每一個在frequent list中的元素為header，從FP Tree中找出相對應的frequent itemset(得出來的itemset稱為conditional pattern base, CPB)
以得到的conditional pattern base當作新的raw data，重複步驟3,4，直到CPB僅有1個元素為止
從root node開始，將每個header連接起來，及為透過FP-Growth algorithm找出的frequent itemsets
定義所需的變數

import pandas as pd
import numpy as np

support = 0.3
confidence = 0.6
#init_item_count_dict = {}
#ordered_frequent_item_list = []
class Node:
    #建構式
    def __init__(self, item = None, count=1, parent=None, children=[]):
        self.__item = item
        self.__count = count
        self.__parent = parent
        self.__children = children
        
    def append_child(self, child):
        self.__count = self.__count + 1
        self.__children.append(child)
    
    def add_count(self):
        self.__count = self.__count + 1
    
    def get_item(self):
        return self.__item
    
    def get_count(self):
        return self.__count
    
    def get_parent(self):
        return self.__parent
    
    def get_children(self):
        return self.__children
        
#test -> OK!
"""
n0 = Node('n0')
n1 = Node(item='n1', parent=n0)
n0.append_child(n1)
n2 = Node(item='n2', parent=n0)
n0.append_child(n2)
n3 = Node(item='n3', parent=n1)
n1.append_child(n3)
print(n0.get_item())
print(n0.get_count())
print(n1.get_count())
print(n1.get_parent().get_children())
print(n3.get_parent().get_parent().get_item())
"""


主要的function

#從raw data中統計各個item的數量
def counting(df):
    #print(df.columns.dtype)
    #global init_item_count_dict
    count_dict = {}
    for i in range(len(df.index)):
        tmp_row = df.iloc[i]
        for j in range(len(tmp_row.index)):
            #print(type(tmp_row[j]))
            #每個nan皆為獨特的存在! 是float型態 -> 其他數字自動被當作float
            if(tmp_row[j] not in list(count_dict.keys()) and ((type(tmp_row[j]) is not (str or object) and not np.isnan(tmp_row[j])) or (type(tmp_row[j]) is (str or object)))):
                count_dict[tmp_row[j]] = 1
            elif(tmp_row[j] in list(count_dict.keys())):
                count_dict[tmp_row[j]] = count_dict[tmp_row[j]] + 1
            else:
                #print(tmp_row[j])
                print('A NaN value was read ...')
    
    return count_dict         
    

#過濾掉小於support的items
def is_over_support_items(obj, df):
    filtered_obj = {}
    
    global support
    
    #過濾
    for k, v in obj.items():
        if(supp(k, df) >= support):
            filtered_obj[k] = v
    
    #由大到小排序
    ordered_items = [item[0] for item in sorted(filtered_obj.items(), key = lambda x:x[1], reverse = True)]
    return ordered_items
    


#計算support
def supp(item, df):
    total = len(df.index)
    count = 0
    for i in range(total):
        tmp_row = df.iloc[i]
        for j in range(len(tmp_row.index)):
            if(item == tmp_row[j]):
                count = count + 1
    
    return count / total
    

#計算confidence
def conf(s, itemset, df):
    pass



#將raw data的每一筆資料重新排序(按照ordered_items的順序)
def reorder_raw_data(ordered_items, df):
    datas = []
    for i in range(len(df.index)):
        tmp_row_values = df.iloc[i].values
        tmp_data = []
        for j in range(len(ordered_items)):
            if(ordered_items[j] in tmp_row_values):
                tmp_data.append(ordered_items[j])
        datas.append(tmp_data.copy()) 
    
    return datas


#建立FP Tree
def fp_tree(reordered_raw_data):
    #print(root is not None)
    root = Node(children = [])
    print(root.get_children())  #已經有children了?!?! 可能是因為children是list型態，會沿用同樣的位址?
    print('children: ', id(root.get_children()))
    print('root: ', id(root))
    print('root count: ', root.get_count())
    #tmp_node = None
    
    for i in range(len(reordered_raw_data)):
        tmp_row = reordered_raw_data[i]
        for j in range(len(tmp_row)):
            current_node = root
            print('第', i + j, '個點')  
            #初始狀態: 只有root
            #在根結點 && children中沒有一樣的
            if(current_node.get_item() is None and all(tmp_row[j] != node.get_item() for node in current_node.get_children())):
                tmp_node = Node(item = tmp_row[j], parent = current_node)
                current_node.append_child(tmp_node)
                current_node = tmp_node
                print('在root加入新成員到children, current node移到新建立的點')
                

            #在根結點 && children中有一樣的
            elif(current_node.get_item() is None and any(tmp_row[j] == node.get_item() for node in current_node.get_children())):
                same_item = [child for child in current_node.get_children() if child.get_item() == tmp_row[j]][0]
                same_item.add_count()
                current_node = same_item
                print('在root的children中找到一樣的, 該結點加一, current node移到該點')
                

            #在第n個結點(同一個row的資料才會走這條判斷!) && 與該結點一樣 -> 應該不會發生?
            elif(current_node.get_item() == tmp_row[j]):
                current_node.add_count()
                print('與該結點相同，count加一, Majaja')
                

            #在第n個結點(同一個row的資料才會走這條判斷!) && 與該結點不一樣 -> children中有
            elif(current_node.get_item() != tmp_row[j] and any(tmp_row[j] == node.get_item() for node in current_node.get_children())):
                same_item = [child for child in current_node.get_children() if child.get_item() == tmp_row[j]][0]
                same_item.add_count()
                current_node = same_item
                print('在ni的children中找到一樣的 -> count加一')

            #在第n個結點 && 與該結點不一樣 -> children中沒有
            elif(current_node.get_item() != tmp_row[j] and all(tmp_row[j] != node.get_item() for node in current_node.get_children())):
                tmp_node = Node(item = tmp_row[j], parent = current_node)
                current_node.append_child(tmp_node)
                current_node = tmp_node
                print('在ni的children中都沒有 -> 新增一個結點')


            else:
                print('出事啦阿伯?!')
                
                    
                
            
                
    
    return root

"""
def clear_param(*args):
    global init_item_count_dict
    init_item_count_dict = {}
    
    global ordered_frequent_item_list
    ordered_frequent_item_list = []
"""    
    
def set_param(sup = 0.6, con = 0.6):
    global support
    support = sup
    
    global confidence
    confidence = con


測試區

#測試counting
df = pd.read_excel('lottery.xlsx', sheet_name='big_lottery')
df_pure = df.drop(['period','date'], axis = 1)
#print(df_pure)
#clear_param()

result = counting(df_pure)
print(result)

ordered_items = is_over_support_items(result, df_pure)
print(ordered_items)

reordered_raw_data = reorder_raw_data(ordered_items, df_pure)
print(len(reordered_raw_data))
print(reordered_raw_data)

tree = fp_tree(reordered_raw_data)
print('tree root: ', tree)
print('root item: ', tree.get_item())
print('children: ', tree.get_children())
for child in tree.get_children():
    print(child.get_item())
    print(child.get_count())
